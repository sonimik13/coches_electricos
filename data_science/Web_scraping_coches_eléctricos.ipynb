{
 "cells": [
  {
   "cell_type": "markdown",
   "metadata": {},
   "source": [
    "# Web scraping Modelos coches"
   ]
  },
  {
   "cell_type": "markdown",
   "metadata": {},
   "source": [
    "### Importar Pandas y activar el Chrome Driver"
   ]
  },
  {
   "cell_type": "code",
   "execution_count": 23,
   "metadata": {
    "ExecuteTime": {
     "end_time": "2021-05-01T09:23:08.393534Z",
     "start_time": "2021-05-01T09:23:07.853020Z"
    }
   },
   "outputs": [],
   "source": [
    "import pandas as pd\n",
    "\n",
    "from selenium import webdriver\n",
    "\n",
    "from selenium.webdriver.common.keys import Keys\n",
    "\n",
    "from selenium.webdriver.common.action_chains import ActionChains\n",
    "\n",
    "import time"
   ]
  },
  {
   "cell_type": "markdown",
   "metadata": {},
   "source": [
    "### Tratamiento de coches eléctricos con tipo de cargador Type 2"
   ]
  },
  {
   "cell_type": "markdown",
   "metadata": {},
   "source": [
    "***Para usar el chrome driver hay que descargarlo y cambiar la ruta.***"
   ]
  },
  {
   "cell_type": "code",
   "execution_count": 24,
   "metadata": {
    "ExecuteTime": {
     "end_time": "2021-05-01T09:23:51.732039Z",
     "start_time": "2021-05-01T09:23:49.653764Z"
    }
   },
   "outputs": [],
   "source": [
    "chrome_driver = r\"C:\\\\Users\\\\SoniMik\\\\Desktop\\\\chromedriver_win32\\\\chromedriver.exe\"\n",
    "\n",
    "options = webdriver.ChromeOptions()\n",
    "\n",
    "driver = webdriver.Chrome(executable_path = chrome_driver, options = options)"
   ]
  },
  {
   "cell_type": "markdown",
   "metadata": {},
   "source": [
    "***Entramos en la página***"
   ]
  },
  {
   "cell_type": "code",
   "execution_count": 25,
   "metadata": {
    "ExecuteTime": {
     "end_time": "2021-05-01T09:51:25.795114Z",
     "start_time": "2021-05-01T09:51:24.189160Z"
    }
   },
   "outputs": [],
   "source": [
    "#Entramos en la página ya filtrada por tipo de cargador Type 2 (10 coches)\n",
    "\n",
    "driver.get('https://ev-database.org/#sort:path~type~order=.rank~number~desc|plug-cb-dd:pathGroup=.plug-type2|range-slider-range:prev~next=0~1200|range-slider-acceleration:prev~next=2~23|range-slider-topspeed:prev~next=110~450|range-slider-battery:prev~next=10~200|range-slider-eff:prev~next=100~300|range-slider-fastcharge:prev~next=0~1500|paging:currentPage=0|paging:number=all')"
   ]
  },
  {
   "cell_type": "markdown",
   "metadata": {},
   "source": [
    "#### Recogemos información"
   ]
  },
  {
   "cell_type": "code",
   "execution_count": 26,
   "metadata": {},
   "outputs": [],
   "source": [
    "#Definimos la lista lista_modelo vacía para ir añadiendo la información\n",
    "\n",
    "lista_modelo = []\n",
    "\n",
    "'''\n",
    "Función que recoge la marca y el modelo de un coche eléctrico\n",
    "\n",
    "'''\n",
    "def marca_modelo():\n",
    "    \n",
    "    marca_modelo = driver.find_elements_by_tag_name('h2') #nos situamos en la marca y modelo\n",
    "    \n",
    "    for i in marca_modelo:\n",
    "        lista_modelo.append(i.text)\n",
    "\n",
    "marca_modelo()        "
   ]
  },
  {
   "cell_type": "code",
   "execution_count": 27,
   "metadata": {},
   "outputs": [],
   "source": [
    "#Definimos la lista lista_cargador vacía para ir añadiendo la información \n",
    "\n",
    "lista_cargador = []\n",
    "\n",
    "'''\n",
    "Función que recoge la capacidad de la batería eléctrica de un coche eléctrico\n",
    "\n",
    "Parámetros:\n",
    "\n",
    "    input: Tipo de cargador (string)\n",
    "\n",
    "'''\n",
    "def capacidad_bateria(cargador):\n",
    "    \n",
    "    battery = driver.find_elements_by_class_name('battery') #nos situamos en la capacidad de la betería eléctrica\n",
    "    \n",
    "    for i in battery:\n",
    "        tot = str(i.text) + \" \" + cargador\n",
    "        lista_cargador.append(tot)\n",
    "\n",
    "#Se llama a la función capacidad_bateria\n",
    "capacidad_bateria(\"Type 2\")        "
   ]
  },
  {
   "cell_type": "code",
   "execution_count": 28,
   "metadata": {},
   "outputs": [],
   "source": [
    "#Quitamos el navegador\n",
    "driver.quit()"
   ]
  },
  {
   "cell_type": "markdown",
   "metadata": {},
   "source": [
    "### Tratamiento de coches eléctricos con tipo de cargador Type 1 CHAdeMO"
   ]
  },
  {
   "cell_type": "markdown",
   "metadata": {},
   "source": [
    "***Para usar el chrome driver hay que descargarlo y cambiar la ruta.***"
   ]
  },
  {
   "cell_type": "code",
   "execution_count": 29,
   "metadata": {},
   "outputs": [],
   "source": [
    "chrome_driver = r\"C:\\\\Users\\\\SoniMik\\\\Desktop\\\\chromedriver_win32\\\\chromedriver.exe\"\n",
    "\n",
    "options = webdriver.ChromeOptions()\n",
    "\n",
    "driver = webdriver.Chrome(executable_path = chrome_driver, options = options)"
   ]
  },
  {
   "cell_type": "markdown",
   "metadata": {},
   "source": [
    "***Entramos en la página***"
   ]
  },
  {
   "cell_type": "code",
   "execution_count": 30,
   "metadata": {},
   "outputs": [],
   "source": [
    "#Entramos en la página ya filtrada por tipo de cargador Type 1 CHAdeMO (1 coche)\n",
    "\n",
    "driver.get('https://ev-database.org/#sort:path~type~order=.rank~number~desc|plug-cb-dd:pathGroup=.plug-type1-cdm|range-slider-range:prev~next=0~1200|range-slider-acceleration:prev~next=2~23|range-slider-topspeed:prev~next=110~450|range-slider-battery:prev~next=10~200|range-slider-eff:prev~next=100~300|range-slider-fastcharge:prev~next=0~1500|paging:currentPage=0|paging:number=9')"
   ]
  },
  {
   "cell_type": "markdown",
   "metadata": {},
   "source": [
    "#### Recogemos información"
   ]
  },
  {
   "cell_type": "code",
   "execution_count": 31,
   "metadata": {},
   "outputs": [],
   "source": [
    "#Se llama a la función marca_modelo\n",
    "marca_modelo()    "
   ]
  },
  {
   "cell_type": "code",
   "execution_count": 32,
   "metadata": {},
   "outputs": [],
   "source": [
    "#Se llama a la función capacidad_bateria pasándole el parámetro tipo de cargador igual a Type 1 CHAdeMO\n",
    "capacidad_bateria(\"Type 1 CHAdeMO\") "
   ]
  },
  {
   "cell_type": "code",
   "execution_count": 33,
   "metadata": {},
   "outputs": [],
   "source": [
    "#Quitamos el navegador\n",
    "driver.quit()"
   ]
  },
  {
   "cell_type": "markdown",
   "metadata": {},
   "source": [
    "### Tratamiento de coches eléctricos con tipo de cargador Type 2 CHAdeMO"
   ]
  },
  {
   "cell_type": "markdown",
   "metadata": {},
   "source": [
    "***Para usar el chrome driver hay que descargarlo y cambiar la ruta.***"
   ]
  },
  {
   "cell_type": "code",
   "execution_count": 34,
   "metadata": {},
   "outputs": [],
   "source": [
    "chrome_driver = r\"C:\\\\Users\\\\SoniMik\\\\Desktop\\\\chromedriver_win32\\\\chromedriver.exe\"\n",
    "\n",
    "options = webdriver.ChromeOptions()\n",
    "\n",
    "driver = webdriver.Chrome(executable_path = chrome_driver, options = options)"
   ]
  },
  {
   "cell_type": "markdown",
   "metadata": {},
   "source": [
    "***Entramos en la página***"
   ]
  },
  {
   "cell_type": "code",
   "execution_count": 35,
   "metadata": {},
   "outputs": [],
   "source": [
    "#Entramos en la página ya filtrada por tipo de cargador Type 2 CHAdeMO (3 coches)\n",
    "\n",
    "driver.get('https://ev-database.org/#sort:path~type~order=.rank~number~desc|plug-cb-dd:pathGroup=.plug-type2-cdm|range-slider-range:prev~next=0~1200|range-slider-acceleration:prev~next=2~23|range-slider-topspeed:prev~next=110~450|range-slider-battery:prev~next=10~200|range-slider-eff:prev~next=100~300|range-slider-fastcharge:prev~next=0~1500|paging:currentPage=0|paging:number=9')"
   ]
  },
  {
   "cell_type": "markdown",
   "metadata": {},
   "source": [
    "#### Recogemos información"
   ]
  },
  {
   "cell_type": "code",
   "execution_count": 36,
   "metadata": {},
   "outputs": [],
   "source": [
    "#Se llama a la función marca_modelo\n",
    "marca_modelo()  "
   ]
  },
  {
   "cell_type": "code",
   "execution_count": 37,
   "metadata": {},
   "outputs": [],
   "source": [
    "#Se llama a la función capacidad_bateria pasándole el parámetro tipo de cargador igual a Type 2 CHAdeMO\n",
    "capacidad_bateria(\"Type 2 CHAdeMO\") "
   ]
  },
  {
   "cell_type": "code",
   "execution_count": 38,
   "metadata": {},
   "outputs": [],
   "source": [
    "#Quitamos el navegador\n",
    "driver.quit()"
   ]
  },
  {
   "cell_type": "markdown",
   "metadata": {},
   "source": [
    "### Tratamiento de coches eléctricos con tipo de cargador Type 2 CSS"
   ]
  },
  {
   "cell_type": "markdown",
   "metadata": {},
   "source": [
    "***Para usar el chrome driver hay que descargarlo y cambiar la ruta.***"
   ]
  },
  {
   "cell_type": "code",
   "execution_count": 39,
   "metadata": {},
   "outputs": [],
   "source": [
    "chrome_driver = r\"C:\\\\Users\\\\SoniMik\\\\Desktop\\\\chromedriver_win32\\\\chromedriver.exe\"\n",
    "\n",
    "options = webdriver.ChromeOptions()\n",
    "\n",
    "driver = webdriver.Chrome(executable_path = chrome_driver, options = options)"
   ]
  },
  {
   "cell_type": "markdown",
   "metadata": {},
   "source": [
    "***Entramos en la página***"
   ]
  },
  {
   "cell_type": "code",
   "execution_count": 40,
   "metadata": {},
   "outputs": [],
   "source": [
    "#Entramos en la página ya filtrada por tipo de cargador Type 2 CCS (150 coches)\n",
    "\n",
    "driver.get('https://ev-database.org/#sort:path~type~order=.rank~number~desc|plug-cb-dd:pathGroup=.plug-type2-ccs|range-slider-range:prev~next=0~1200|range-slider-acceleration:prev~next=2~23|range-slider-topspeed:prev~next=110~450|range-slider-battery:prev~next=10~200|range-slider-eff:prev~next=100~300|range-slider-fastcharge:prev~next=0~1500|paging:currentPage=0|paging:number=all')"
   ]
  },
  {
   "cell_type": "markdown",
   "metadata": {},
   "source": [
    "#### Recogemos información"
   ]
  },
  {
   "cell_type": "code",
   "execution_count": 41,
   "metadata": {},
   "outputs": [],
   "source": [
    "#Se llama a la función marca_modelo\n",
    "marca_modelo()  "
   ]
  },
  {
   "cell_type": "code",
   "execution_count": 42,
   "metadata": {},
   "outputs": [],
   "source": [
    "#Se llama a la función capacidad_bateria pasándole el parámetro tipo de cargador igual a Type 2 CCS\n",
    "capacidad_bateria(\"Type 2 CCS\") "
   ]
  },
  {
   "cell_type": "code",
   "execution_count": 43,
   "metadata": {},
   "outputs": [],
   "source": [
    "#Quitamos el navegador\n",
    "driver.quit()"
   ]
  },
  {
   "cell_type": "code",
   "execution_count": 44,
   "metadata": {
    "collapsed": true,
    "jupyter": {
     "outputs_hidden": true
    }
   },
   "outputs": [
    {
     "name": "stdout",
     "output_type": "stream",
     "text": [
      "['Renault Twingo Electric', 'Tesla Model S Plaid', 'Tesla Model S Plaid+', 'Tesla Model S Long Range', 'Renault Kangoo Maxi ZE 33', 'Smart EQ fortwo coupe', 'Tesla Model X Long Range', 'Smart EQ forfour', 'Tesla Model X Plaid', 'Smart EQ fortwo cabrio', 'Nissan e-NV200 Evalia', 'Nissan Leaf', 'Lexus UX 300e', 'Nissan Leaf e+', 'Kia EV6 GT', 'Skoda Enyaq iV 80', 'Tesla Model 3 Long Range Dual Motor', 'Dacia Spring Electric', 'Volkswagen ID.4 1st', 'Volkswagen ID.3 Pure Performance', 'Mercedes EQA 250', 'BMW i4', 'Tesla Model 3 Standard Range Plus LFP', 'MG Marvel R', 'Audi Q4 e-tron 35', 'Hyundai IONIQ 5 Project 45', 'Hyundai Kona Electric 64 kWh', 'Hyundai IONIQ Electric', 'Peugeot e-208', 'Tesla Model 3 Standard Range Plus', 'Tesla Model Y Long Range Dual Motor', 'Volkswagen ID.3 Pro S', 'BMW iX3', 'Hyundai IONIQ 5 Long Range 2WD', 'Skoda Enyaq iV 60', 'Citroen e-C4', 'Honda e', 'Audi e-tron GT RS', 'MG ZS EV', 'Peugeot e-2008 SUV', 'Volkswagen ID.3 Pro', 'Kia EV6 Long Range 2WD', 'Opel Corsa-e', 'Mercedes EQS 450+', 'Volvo XC40 P8 AWD Recharge', 'Skoda Enyaq iV 50', 'Renault Zoe ZE50 R110', 'Opel Mokka-e', 'BMW iX xDrive 50', 'Mazda MX-30', 'Hyundai IONIQ 5 Long Range AWD', 'Aiways U5', 'Skoda Enyaq iV 80X', 'Kia EV6 Long Range AWD', 'Tesla Cybertruck Tri Motor', 'Audi Q4 e-tron 40', 'Porsche Taycan Turbo S', 'Volkswagen ID.4 Pro Performance', 'BMW i3 120 Ah', 'Tesla Model 3 Performance', 'Kia e-Niro 64 kWh', 'Volkswagen ID.4 GTX', 'Audi Q4 e-tron 50 quattro', 'Audi e-tron 50 quattro', 'Mercedes EQC 400 4MATIC', 'CUPRA Born', 'Mercedes EQS 580 4MATIC', 'Skoda Enyaq iV RS', 'Lightyear One', 'Audi e-tron 55 quattro', 'Volkswagen ID.3 Pro Performance', 'Hyundai Kona Electric 64 kWh', 'Renault Zoe ZE50 R135', 'SEAT Mii Electric', 'Nissan Ariya 87kWh', 'Polestar 2 Long Range Dual Motor', 'Renault Zoe ZE40 R110', 'Tesla Roadster', 'Hyundai Kona Electric 39 kWh', 'Ford Mustang Mach-E ER RWD', 'MG MG5 EV', 'Fiat 500e Hatchback 42 kWh', 'Mercedes EQB 350 4MATIC', 'Mercedes EQA 300 4MATIC', 'Polestar 2 Long Range Single Motor', 'Audi Q4 Sportback e-tron 50 quattro', 'Porsche Taycan 4S', 'Mercedes EQA 350 4MATIC', 'Volvo C40 Recharge', 'Mini Cooper SE', 'Ford Mustang Mach-E ER AWD', 'Opel Ampera-e', 'Hyundai IONIQ 5 Standard Range 2WD', 'Seres 3', 'Volkswagen ID.4 Pure Performance', 'Volkswagen ID.4 Pure', 'Kia e-Soul 64 kWh', 'Jaguar I-Pace EV400', 'Lucid Air Dream Edition', 'MG MG5 Electric', 'BMW i3s 120 Ah', 'Tesla Model Y Performance', 'Ford Mustang Mach-E SR RWD', 'Kia EV6 Standard Range 2WD', 'Porsche Taycan 4 Cross Turismo', 'Audi e-tron Sportback 55 quattro', 'Mercedes EQV 300 Long', 'Audi e-tron GT quattro', 'Tesla Cybertruck Single Motor', 'Fiat 500e Hatchback 24 kWh', 'DS 3 Crossback E-Tense', 'Lucid Air Pure', 'Lucid Air Grand Touring', 'Honda e Advance', 'Porsche Taycan Plus', 'Fiat 500e Cabrio', 'Polestar 2 Standard Range Single Motor', 'Sono Sion', 'BMW iX xDrive 40', 'Fiat 500e 3+1', 'Hyundai Kona Electric 39 kWh', 'Ford Mustang Mach-E GT', 'Tesla Cybertruck Dual Motor', 'Kia e-Soul 64 kWh', 'Citroen e-SpaceTourer M 75 kWh', 'Jaguar I-Pace EV320', 'JAC iEV7s', 'Kia e-Niro 39 kWh', 'Nissan Ariya e-4ORCE 87kWh', 'Ford Mustang Mach-E SR AWD', 'Nissan Ariya 63kWh', 'Hyundai IONIQ 5 Standard Range AWD', 'Audi e-tron S 55 quattro', 'Porsche Taycan 4S Plus', 'Porsche Taycan', 'Audi Q4 Sportback e-tron 35', 'Audi e-tron Sportback 50 quattro', 'Audi e-tron 55 quattro', 'Porsche Taycan Turbo', 'Porsche Taycan Turbo S Cross Turismo', 'Audi e-tron S Sportback 55 quattro', 'Byton M-Byte 95 kWh 4WD', 'Kia e-Soul 39 kWh', 'Opel Zafira-e Life L 50 kWh', 'Opel Zafira-e Life L 75 kWh', 'Porsche Taycan 4S Cross Turismo', 'Mercedes EQV 300 Extra-Long', 'Nissan Ariya e-4ORCE 87kWh Performance', 'Audi e-tron Sportback 55 quattro', 'Nissan Ariya e-4ORCE 63kWh', 'Peugeot e-Traveller Standard 50 kWh', 'Peugeot e-Traveller Long 75 kWh', 'Lucid Air Touring', 'Peugeot e-Traveller Standard 75 kWh', 'Porsche Taycan Turbo Cross Turismo', 'Opel Zafira-e Life M 75 kWh', 'Byton M-Byte 95 kWh 2WD', 'Citroen e-SpaceTourer XL 75 kWh', 'Citroen e-SpaceTourer M 50 kWh', 'Byton M-Byte 72 kWh 2WD', 'Peugeot e-Traveller Compact 50 kWh', 'Citroen e-SpaceTourer XS 50 kWh', 'Opel Zafira-e Life S 50 kWh', 'Citroen e-SpaceTourer XL 50 kWh', 'Opel Zafira-e Life M 50 kWh', 'Peugeot e-Traveller Long 50 kWh']\n",
      "['21.3 Type 2', '90 Type 2', '115 Type 2', '90 Type 2', '31 Type 2', '16.7 Type 2', '90 Type 2', '16.7 Type 2', '90 Type 2', '16.7 Type 2', '38 Type 1 CHAdeMO', '36 Type 2 CHAdeMO', '50 Type 2 CHAdeMO', '56 Type 2 CHAdeMO', '77.4 Type 2 CCS', '77 Type 2 CCS', '70 Type 2 CCS', '26.8 Type 2 CCS', '77 Type 2 CCS', '45 Type 2 CCS', '66.5 Type 2 CCS', '80 Type 2 CCS', '50 Type 2 CCS', '65 Type 2 CCS', '52 Type 2 CCS', '72.6 Type 2 CCS', '64 Type 2 CCS', '38.3 Type 2 CCS', '45 Type 2 CCS', '50 Type 2 CCS', '72.5 Type 2 CCS', '77 Type 2 CCS', '74 Type 2 CCS', '72.6 Type 2 CCS', '58 Type 2 CCS', '45 Type 2 CCS', '28.5 Type 2 CCS', '85 Type 2 CCS', '42.5 Type 2 CCS', '45 Type 2 CCS', '58 Type 2 CCS', '77.4 Type 2 CCS', '45 Type 2 CCS', '107.8 Type 2 CCS', '75 Type 2 CCS', '52 Type 2 CCS', '52 Type 2 CCS', '45 Type 2 CCS', '105 Type 2 CCS', '30 Type 2 CCS', '72.6 Type 2 CCS', '63 Type 2 CCS', '77 Type 2 CCS', '77.4 Type 2 CCS', '200 Type 2 CCS', '77 Type 2 CCS', '83.7 Type 2 CCS', '77 Type 2 CCS', '37.9 Type 2 CCS', '76 Type 2 CCS', '64 Type 2 CCS', '77 Type 2 CCS', '77 Type 2 CCS', '64.7 Type 2 CCS', '80 Type 2 CCS', '77 Type 2 CCS', '107.8 Type 2 CCS', '77 Type 2 CCS', '60 Type 2 CCS', '86.5 Type 2 CCS', '58 Type 2 CCS', '64 Type 2 CCS', '52 Type 2 CCS', '32.3 Type 2 CCS', '87 Type 2 CCS', '75 Type 2 CCS', '41 Type 2 CCS', '200 Type 2 CCS', '39.2 Type 2 CCS', '88 Type 2 CCS', '48.8 Type 2 CCS', '37.3 Type 2 CCS', '66.5 Type 2 CCS', '66.5 Type 2 CCS', '75 Type 2 CCS', '77 Type 2 CCS', '71 Type 2 CCS', '66.5 Type 2 CCS', '75 Type 2 CCS', '28.9 Type 2 CCS', '88 Type 2 CCS', '58 Type 2 CCS', '58 Type 2 CCS', '52 Type 2 CCS', '52 Type 2 CCS', '52 Type 2 CCS', '64 Type 2 CCS', '84.7 Type 2 CCS', '110 Type 2 CCS', '56 Type 2 CCS', '37.9 Type 2 CCS', '72.5 Type 2 CCS', '68 Type 2 CCS', '58 Type 2 CCS', '83.7 Type 2 CCS', '86.5 Type 2 CCS', '90 Type 2 CCS', '85 Type 2 CCS', '100 Type 2 CCS', '23.8 Type 2 CCS', '45 Type 2 CCS', '85 Type 2 CCS', '110 Type 2 CCS', '28.5 Type 2 CCS', '83.7 Type 2 CCS', '37.3 Type 2 CCS', '61 Type 2 CCS', '35 Type 2 CCS', '70 Type 2 CCS', '37.3 Type 2 CCS', '39.2 Type 2 CCS', '88 Type 2 CCS', '120 Type 2 CCS', '64 Type 2 CCS', '68 Type 2 CCS', '84.7 Type 2 CCS', '39 Type 2 CCS', '39.2 Type 2 CCS', '87 Type 2 CCS', '68 Type 2 CCS', '63 Type 2 CCS', '58 Type 2 CCS', '86.5 Type 2 CCS', '83.7 Type 2 CCS', '71 Type 2 CCS', '52 Type 2 CCS', '64.7 Type 2 CCS', '86.5 Type 2 CCS', '83.7 Type 2 CCS', '83.7 Type 2 CCS', '86.5 Type 2 CCS', '95 Type 2 CCS', '39.2 Type 2 CCS', '45 Type 2 CCS', '68 Type 2 CCS', '83.7 Type 2 CCS', '90 Type 2 CCS', '87 Type 2 CCS', '86.5 Type 2 CCS', '63 Type 2 CCS', '45 Type 2 CCS', '68 Type 2 CCS', '85 Type 2 CCS', '68 Type 2 CCS', '83.7 Type 2 CCS', '68 Type 2 CCS', '95 Type 2 CCS', '68 Type 2 CCS', '45 Type 2 CCS', '72 Type 2 CCS', '45 Type 2 CCS', '45 Type 2 CCS', '45 Type 2 CCS', '45 Type 2 CCS', '45 Type 2 CCS', '45 Type 2 CCS']\n"
     ]
    }
   ],
   "source": [
    "print(lista_modelo)\n",
    "print(lista_cargador)"
   ]
  },
  {
   "cell_type": "markdown",
   "metadata": {},
   "source": [
    "### Generamos el DataFrame"
   ]
  },
  {
   "cell_type": "code",
   "execution_count": 47,
   "metadata": {},
   "outputs": [
    {
     "data": {
      "text/html": [
       "<div>\n",
       "<style scoped>\n",
       "    .dataframe tbody tr th:only-of-type {\n",
       "        vertical-align: middle;\n",
       "    }\n",
       "\n",
       "    .dataframe tbody tr th {\n",
       "        vertical-align: top;\n",
       "    }\n",
       "\n",
       "    .dataframe thead th {\n",
       "        text-align: right;\n",
       "    }\n",
       "</style>\n",
       "<table border=\"1\" class=\"dataframe\">\n",
       "  <thead>\n",
       "    <tr style=\"text-align: right;\">\n",
       "      <th></th>\n",
       "      <th>modelo</th>\n",
       "      <th>cargador</th>\n",
       "    </tr>\n",
       "  </thead>\n",
       "  <tbody>\n",
       "    <tr>\n",
       "      <th>0</th>\n",
       "      <td>Renault Twingo Electric</td>\n",
       "      <td>21.3 Type 2</td>\n",
       "    </tr>\n",
       "    <tr>\n",
       "      <th>1</th>\n",
       "      <td>Tesla Model S Plaid</td>\n",
       "      <td>90 Type 2</td>\n",
       "    </tr>\n",
       "    <tr>\n",
       "      <th>2</th>\n",
       "      <td>Tesla Model S Plaid+</td>\n",
       "      <td>115 Type 2</td>\n",
       "    </tr>\n",
       "    <tr>\n",
       "      <th>3</th>\n",
       "      <td>Tesla Model S Long Range</td>\n",
       "      <td>90 Type 2</td>\n",
       "    </tr>\n",
       "    <tr>\n",
       "      <th>4</th>\n",
       "      <td>Renault Kangoo Maxi ZE 33</td>\n",
       "      <td>31 Type 2</td>\n",
       "    </tr>\n",
       "    <tr>\n",
       "      <th>...</th>\n",
       "      <td>...</td>\n",
       "      <td>...</td>\n",
       "    </tr>\n",
       "    <tr>\n",
       "      <th>161</th>\n",
       "      <td>Citroen e-SpaceTourer XS 50 kWh</td>\n",
       "      <td>45 Type 2 CCS</td>\n",
       "    </tr>\n",
       "    <tr>\n",
       "      <th>162</th>\n",
       "      <td>Opel Zafira-e Life S 50 kWh</td>\n",
       "      <td>45 Type 2 CCS</td>\n",
       "    </tr>\n",
       "    <tr>\n",
       "      <th>163</th>\n",
       "      <td>Citroen e-SpaceTourer XL 50 kWh</td>\n",
       "      <td>45 Type 2 CCS</td>\n",
       "    </tr>\n",
       "    <tr>\n",
       "      <th>164</th>\n",
       "      <td>Opel Zafira-e Life M 50 kWh</td>\n",
       "      <td>45 Type 2 CCS</td>\n",
       "    </tr>\n",
       "    <tr>\n",
       "      <th>165</th>\n",
       "      <td>Peugeot e-Traveller Long 50 kWh</td>\n",
       "      <td>45 Type 2 CCS</td>\n",
       "    </tr>\n",
       "  </tbody>\n",
       "</table>\n",
       "<p>166 rows × 2 columns</p>\n",
       "</div>"
      ],
      "text/plain": [
       "                              modelo       cargador\n",
       "0            Renault Twingo Electric    21.3 Type 2\n",
       "1                Tesla Model S Plaid      90 Type 2\n",
       "2               Tesla Model S Plaid+     115 Type 2\n",
       "3           Tesla Model S Long Range      90 Type 2\n",
       "4          Renault Kangoo Maxi ZE 33      31 Type 2\n",
       "..                               ...            ...\n",
       "161  Citroen e-SpaceTourer XS 50 kWh  45 Type 2 CCS\n",
       "162      Opel Zafira-e Life S 50 kWh  45 Type 2 CCS\n",
       "163  Citroen e-SpaceTourer XL 50 kWh  45 Type 2 CCS\n",
       "164      Opel Zafira-e Life M 50 kWh  45 Type 2 CCS\n",
       "165  Peugeot e-Traveller Long 50 kWh  45 Type 2 CCS\n",
       "\n",
       "[166 rows x 2 columns]"
      ]
     },
     "execution_count": 47,
     "metadata": {},
     "output_type": "execute_result"
    }
   ],
   "source": [
    "df = pd.DataFrame(\n",
    "       {'modelo': lista_modelo,\n",
    "        'cargador': lista_cargador\n",
    "       })\n",
    "\n",
    "df"
   ]
  },
  {
   "cell_type": "markdown",
   "metadata": {},
   "source": [
    "### Generamos el fichero .JSON"
   ]
  },
  {
   "cell_type": "code",
   "execution_count": 48,
   "metadata": {},
   "outputs": [],
   "source": [
    "df.to_json('coches_electricos.json', orient = 'records')"
   ]
  }
 ],
 "metadata": {
  "hide_input": false,
  "kernelspec": {
   "display_name": "Python 3",
   "language": "python",
   "name": "python3"
  },
  "language_info": {
   "codemirror_mode": {
    "name": "ipython",
    "version": 3
   },
   "file_extension": ".py",
   "mimetype": "text/x-python",
   "name": "python",
   "nbconvert_exporter": "python",
   "pygments_lexer": "ipython3",
   "version": "3.8.5"
  },
  "toc": {
   "base_numbering": 1,
   "nav_menu": {},
   "number_sections": true,
   "sideBar": true,
   "skip_h1_title": false,
   "title_cell": "Table of Contents",
   "title_sidebar": "Contents",
   "toc_cell": false,
   "toc_position": {},
   "toc_section_display": true,
   "toc_window_display": false
  },
  "varInspector": {
   "cols": {
    "lenName": 16,
    "lenType": 16,
    "lenVar": 40
   },
   "kernels_config": {
    "python": {
     "delete_cmd_postfix": "",
     "delete_cmd_prefix": "del ",
     "library": "var_list.py",
     "varRefreshCmd": "print(var_dic_list())"
    },
    "r": {
     "delete_cmd_postfix": ") ",
     "delete_cmd_prefix": "rm(",
     "library": "var_list.r",
     "varRefreshCmd": "cat(var_dic_list()) "
    }
   },
   "types_to_exclude": [
    "module",
    "function",
    "builtin_function_or_method",
    "instance",
    "_Feature"
   ],
   "window_display": false
  }
 },
 "nbformat": 4,
 "nbformat_minor": 4
}
